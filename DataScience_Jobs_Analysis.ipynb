{
 "cells": [
  {
   "cell_type": "markdown",
   "metadata": {},
   "source": [
    "## NLP Analysis of Data Science Jobs in Ireland\n"
   ]
  },
  {
   "cell_type": "code",
   "execution_count": 1,
   "metadata": {},
   "outputs": [],
   "source": [
    "import numpy as np\n",
    "import pandas as pd\n",
    "from tensorflow.keras.preprocessing.text import Tokenizer\n",
    "from tensorflow.keras.preprocessing.sequence import pad_sequences\n",
    "import os "
   ]
  },
  {
   "cell_type": "code",
   "execution_count": 2,
   "metadata": {},
   "outputs": [],
   "source": [
    "# data path\n",
    "DATA_PATH = './data'\n",
    "# last items in list\n",
    "LAST_ITEMS = -8\n",
    "FIRST_ITEMS = 3\n",
    "with open(f\"{DATA_PATH}/1_Research Scientist, Machine LearningDeep Learning_Dataminr.txt\", 'r') as file:\n",
    "    content = file.read()\n",
    "    "
   ]
  },
  {
   "cell_type": "code",
   "execution_count": 3,
   "metadata": {},
   "outputs": [],
   "source": [
    "def read_file(file):\n",
    "    \"\"\"\n",
    "        Reads a file from the from the directory\n",
    "        Returns: list of sentences\n",
    "    \"\"\"\n",
    "    if file == \".DS_Store\":\n",
    "        pass\n",
    "    try:\n",
    "        with open(f\"{DATA_PATH}/{file}\", 'r') as f:\n",
    "            content = f.read()\n",
    "        return content.split('\\n')\n",
    "    except:\n",
    "        print(f\"unable to read: {file} \")"
   ]
  },
  {
   "cell_type": "code",
   "execution_count": 4,
   "metadata": {},
   "outputs": [],
   "source": [
    "def get_title(sentences):\n",
    "    \"\"\"\n",
    "        get the job title and the company name\n",
    "    \"\"\"\n",
    "    title = sentences[0]\n",
    "    company = sentences[1]\n",
    "    location = sentences[2]\n",
    "    \n",
    "    return title, company, location"
   ]
  },
  {
   "cell_type": "code",
   "execution_count": 5,
   "metadata": {},
   "outputs": [],
   "source": [
    "def job_metadata(sentences):\n",
    "    \n",
    "    \"\"\"\n",
    "        The last 8 items of the sentences list are Seniority level ...\n",
    "        reutrns: a dictionary of level:value\n",
    "    \"\"\"\n",
    "    metadata_dict = {}\n",
    "    keys = []\n",
    "    values = []\n",
    "    data = sentences[LAST_ITEMS:]\n",
    "    for i in range(len(data)):\n",
    "        if i % 2 == 0:\n",
    "            keys.append(data[i])\n",
    "        else:\n",
    "            values.append(data[i])\n",
    "#     for key, value in zip(keys,values):\n",
    "#         metadata_dict[key] = value\n",
    "    \n",
    "    return list(zip(keys,values))\n",
    "            "
   ]
  },
  {
   "cell_type": "code",
   "execution_count": 6,
   "metadata": {},
   "outputs": [],
   "source": [
    "def get_text(sentences):\n",
    "    text = sentences[FIRST_ITEMS:LAST_ITEMS]\n",
    "    return text"
   ]
  },
  {
   "cell_type": "code",
   "execution_count": 7,
   "metadata": {},
   "outputs": [],
   "source": [
    "job_df = pd.DataFrame(columns=[\"ids\", \"title\", \"company\", \"location\",\n",
    "                 \"text\", \"seniority_level\", \"industry\",\n",
    "                 \"employment_type\", \"job_function\"])\n",
    "# job_df.columns = [\"ids\", \"title\", \"position\", \"location\",\n",
    "#                  \"text\", \"seniority_level\", \"industry\",\n",
    "#                  \"employment_type\", \"job_function\"]"
   ]
  },
  {
   "cell_type": "code",
   "execution_count": 8,
   "metadata": {},
   "outputs": [],
   "source": [
    "for file in os.listdir(DATA_PATH):\n",
    "    if file.endswith('.DS_Store'):\n",
    "        continue\n",
    "    \n",
    "    #print(file)\n",
    "    ids = file.split(\"_\")[0]\n",
    "    sentences = read_file(file)\n",
    "    title, company, location = get_title(sentences)\n",
    "    details = get_text(sentences)\n",
    "    meta_data = job_metadata(sentences)\n",
    "    \n",
    "    job_df = job_df.append(\n",
    "        {\"ids\":ids,\n",
    "         \"title\": title,\n",
    "         \"company\": company,\n",
    "         \"location\": location,\n",
    "         \"text\": details,\n",
    "         \"seniority_level\":meta_data[0][1],\n",
    "         \"industry\":meta_data[1][1],\n",
    "         \"employment_type\":meta_data[2][1],\n",
    "         \"job_function\": meta_data[3][1]},\n",
    "        ignore_index=True\n",
    "    \n",
    "    )\n",
    "    \n",
    "    "
   ]
  },
  {
   "cell_type": "code",
   "execution_count": 9,
   "metadata": {},
   "outputs": [
    {
     "output_type": "execute_result",
     "data": {
      "text/plain": [
       "     ids                                     title                 company  \\\n",
       "0     56                         Software Engineer          Smartbox Group   \n",
       "1     21                              Data Analyst       Johnson & Johnson   \n",
       "2     34                      Senior Data Engineer              Vela Games   \n",
       "3    106                              Data Analyst                 Dabster   \n",
       "4     51  AIB - Data Engineer – Data and Analytics                     AIB   \n",
       "..   ...                                       ...                     ...   \n",
       "136   66                  Data Analyst (Marketing)  Azon Recruitment Group   \n",
       "137   71                             Data Engineer         Verizon Connect   \n",
       "138   17       Data Engineer - AI Analytics - Cork         Jefferson Frank   \n",
       "139   29                   Data Scientist - Remote   Reperio Human Capital   \n",
       "140   19    Postdoctoral Researcher Huawei Project  Dublin City University   \n",
       "\n",
       "                                location  \\\n",
       "0         Dublin, County Dublin, Ireland   \n",
       "1             Cork, County Cork, Ireland   \n",
       "2         Dublin, County Dublin, Ireland   \n",
       "3             Cork, County Cork, Ireland   \n",
       "4                                Ireland   \n",
       "..                                   ...   \n",
       "136       Dublin, County Dublin, Ireland   \n",
       "137  Dublin City, County Dublin, Ireland   \n",
       "138           Cork, County Cork, Ireland   \n",
       "139           Cork, County Cork, Ireland   \n",
       "140       Dublin, County Dublin, Ireland   \n",
       "\n",
       "                                                  text   seniority_level  \\\n",
       "0    [Department: Technology, , Reporting to: Softw...         Associate   \n",
       "1    [Data Analyst, Technical Operations (Global), ...       Entry level   \n",
       "2    [Vela Games is looking for a talented Senior D...         Associate   \n",
       "3    [Permanent Position, , Cork , Ireland, , Dutie...       Entry level   \n",
       "4    [Posted by, Caroline Donlon 2nd, Senior Busine...  Mid-Senior level   \n",
       "..                                                 ...               ...   \n",
       "136  [Posted by, Laura Murphy 2nd, Recruitment Cons...       Entry level   \n",
       "137  [Posted by, Ian Cummins 2nd, Senior Technical ...  Mid-Senior level   \n",
       "138  [Data Engineer, , Cork - Flexible Remote Worki...       Entry level   \n",
       "139  [(Artificial Intelligence), , Exciting new opp...       Entry level   \n",
       "140  [Research Centre, , Insight SFI Research Centr...       Entry level   \n",
       "\n",
       "                                              industry employment_type  \\\n",
       "0                Leisure, Travel & Tourism Hospitality       Full-time   \n",
       "1    Medical Device Financial Services Pharmaceuticals       Full-time   \n",
       "2                  Design Entertainment Computer Games       Full-time   \n",
       "3    Information Technology & Services Computer Sof...       Full-time   \n",
       "4                                              Banking       Full-time   \n",
       "..                                                 ...             ...   \n",
       "136  Financial Services Information Technology & Se...       Full-time   \n",
       "137                  Information Technology & Services       Full-time   \n",
       "138  Information Technology & Services Staffing & R...       Full-time   \n",
       "139  Information Technology & Services Computer Sof...       Full-time   \n",
       "140     Higher Education Education Management Research        Contract   \n",
       "\n",
       "                                 job_function  \n",
       "0          Engineering Information Technology  \n",
       "1                      Information Technology  \n",
       "2                                 Engineering  \n",
       "3                      Information Technology  \n",
       "4                      Information Technology  \n",
       "..                                        ...  \n",
       "136  Analyst Information Technology Marketing  \n",
       "137                    Information Technology  \n",
       "138                    Information Technology  \n",
       "139        Engineering Information Technology  \n",
       "140   Research Analyst Information Technology  \n",
       "\n",
       "[141 rows x 9 columns]"
      ],
      "text/html": "<div>\n<style scoped>\n    .dataframe tbody tr th:only-of-type {\n        vertical-align: middle;\n    }\n\n    .dataframe tbody tr th {\n        vertical-align: top;\n    }\n\n    .dataframe thead th {\n        text-align: right;\n    }\n</style>\n<table border=\"1\" class=\"dataframe\">\n  <thead>\n    <tr style=\"text-align: right;\">\n      <th></th>\n      <th>ids</th>\n      <th>title</th>\n      <th>company</th>\n      <th>location</th>\n      <th>text</th>\n      <th>seniority_level</th>\n      <th>industry</th>\n      <th>employment_type</th>\n      <th>job_function</th>\n    </tr>\n  </thead>\n  <tbody>\n    <tr>\n      <th>0</th>\n      <td>56</td>\n      <td>Software Engineer</td>\n      <td>Smartbox Group</td>\n      <td>Dublin, County Dublin, Ireland</td>\n      <td>[Department: Technology, , Reporting to: Softw...</td>\n      <td>Associate</td>\n      <td>Leisure, Travel &amp; Tourism Hospitality</td>\n      <td>Full-time</td>\n      <td>Engineering Information Technology</td>\n    </tr>\n    <tr>\n      <th>1</th>\n      <td>21</td>\n      <td>Data Analyst</td>\n      <td>Johnson &amp; Johnson</td>\n      <td>Cork, County Cork, Ireland</td>\n      <td>[Data Analyst, Technical Operations (Global), ...</td>\n      <td>Entry level</td>\n      <td>Medical Device Financial Services Pharmaceuticals</td>\n      <td>Full-time</td>\n      <td>Information Technology</td>\n    </tr>\n    <tr>\n      <th>2</th>\n      <td>34</td>\n      <td>Senior Data Engineer</td>\n      <td>Vela Games</td>\n      <td>Dublin, County Dublin, Ireland</td>\n      <td>[Vela Games is looking for a talented Senior D...</td>\n      <td>Associate</td>\n      <td>Design Entertainment Computer Games</td>\n      <td>Full-time</td>\n      <td>Engineering</td>\n    </tr>\n    <tr>\n      <th>3</th>\n      <td>106</td>\n      <td>Data Analyst</td>\n      <td>Dabster</td>\n      <td>Cork, County Cork, Ireland</td>\n      <td>[Permanent Position, , Cork , Ireland, , Dutie...</td>\n      <td>Entry level</td>\n      <td>Information Technology &amp; Services Computer Sof...</td>\n      <td>Full-time</td>\n      <td>Information Technology</td>\n    </tr>\n    <tr>\n      <th>4</th>\n      <td>51</td>\n      <td>AIB - Data Engineer – Data and Analytics</td>\n      <td>AIB</td>\n      <td>Ireland</td>\n      <td>[Posted by, Caroline Donlon 2nd, Senior Busine...</td>\n      <td>Mid-Senior level</td>\n      <td>Banking</td>\n      <td>Full-time</td>\n      <td>Information Technology</td>\n    </tr>\n    <tr>\n      <th>...</th>\n      <td>...</td>\n      <td>...</td>\n      <td>...</td>\n      <td>...</td>\n      <td>...</td>\n      <td>...</td>\n      <td>...</td>\n      <td>...</td>\n      <td>...</td>\n    </tr>\n    <tr>\n      <th>136</th>\n      <td>66</td>\n      <td>Data Analyst (Marketing)</td>\n      <td>Azon Recruitment Group</td>\n      <td>Dublin, County Dublin, Ireland</td>\n      <td>[Posted by, Laura Murphy 2nd, Recruitment Cons...</td>\n      <td>Entry level</td>\n      <td>Financial Services Information Technology &amp; Se...</td>\n      <td>Full-time</td>\n      <td>Analyst Information Technology Marketing</td>\n    </tr>\n    <tr>\n      <th>137</th>\n      <td>71</td>\n      <td>Data Engineer</td>\n      <td>Verizon Connect</td>\n      <td>Dublin City, County Dublin, Ireland</td>\n      <td>[Posted by, Ian Cummins 2nd, Senior Technical ...</td>\n      <td>Mid-Senior level</td>\n      <td>Information Technology &amp; Services</td>\n      <td>Full-time</td>\n      <td>Information Technology</td>\n    </tr>\n    <tr>\n      <th>138</th>\n      <td>17</td>\n      <td>Data Engineer - AI Analytics - Cork</td>\n      <td>Jefferson Frank</td>\n      <td>Cork, County Cork, Ireland</td>\n      <td>[Data Engineer, , Cork - Flexible Remote Worki...</td>\n      <td>Entry level</td>\n      <td>Information Technology &amp; Services Staffing &amp; R...</td>\n      <td>Full-time</td>\n      <td>Information Technology</td>\n    </tr>\n    <tr>\n      <th>139</th>\n      <td>29</td>\n      <td>Data Scientist - Remote</td>\n      <td>Reperio Human Capital</td>\n      <td>Cork, County Cork, Ireland</td>\n      <td>[(Artificial Intelligence), , Exciting new opp...</td>\n      <td>Entry level</td>\n      <td>Information Technology &amp; Services Computer Sof...</td>\n      <td>Full-time</td>\n      <td>Engineering Information Technology</td>\n    </tr>\n    <tr>\n      <th>140</th>\n      <td>19</td>\n      <td>Postdoctoral Researcher Huawei Project</td>\n      <td>Dublin City University</td>\n      <td>Dublin, County Dublin, Ireland</td>\n      <td>[Research Centre, , Insight SFI Research Centr...</td>\n      <td>Entry level</td>\n      <td>Higher Education Education Management Research</td>\n      <td>Contract</td>\n      <td>Research Analyst Information Technology</td>\n    </tr>\n  </tbody>\n</table>\n<p>141 rows × 9 columns</p>\n</div>"
     },
     "metadata": {},
     "execution_count": 9
    }
   ],
   "source": [
    "job_df"
   ]
  },
  {
   "cell_type": "code",
   "execution_count": 10,
   "metadata": {},
   "outputs": [],
   "source": [
    "job_df.to_csv(\"./text_to_df/job_df.csv\", index=False)"
   ]
  },
  {
   "cell_type": "code",
   "execution_count": null,
   "metadata": {},
   "outputs": [],
   "source": []
  }
 ],
 "metadata": {
  "kernelspec": {
   "name": "python3",
   "display_name": "Python 3.7.6 64-bit ('base': conda)"
  },
  "language_info": {
   "codemirror_mode": {
    "name": "ipython",
    "version": 3
   },
   "file_extension": ".py",
   "mimetype": "text/x-python",
   "name": "python",
   "nbconvert_exporter": "python",
   "pygments_lexer": "ipython3",
   "version": "3.7.6"
  },
  "interpreter": {
   "hash": "016f416f43c7de9d71e7f049375c6b8b903fae571cb02d2ed6c16dadea121115"
  }
 },
 "nbformat": 4,
 "nbformat_minor": 4
}