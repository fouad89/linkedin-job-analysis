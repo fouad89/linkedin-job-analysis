{
 "metadata": {
  "language_info": {
   "codemirror_mode": {
    "name": "ipython",
    "version": 3
   },
   "file_extension": ".py",
   "mimetype": "text/x-python",
   "name": "python",
   "nbconvert_exporter": "python",
   "pygments_lexer": "ipython3",
   "version": "3.7.6"
  },
  "orig_nbformat": 4,
  "kernelspec": {
   "name": "python3",
   "display_name": "Python 3.7.6 64-bit ('base': conda)"
  },
  "interpreter": {
   "hash": "016f416f43c7de9d71e7f049375c6b8b903fae571cb02d2ed6c16dadea121115"
  }
 },
 "nbformat": 4,
 "nbformat_minor": 2,
 "cells": [
  {
   "source": [
    "## Analysis Part 2\n",
    "\n",
    "<ul style=\"font-size:20px;\">\n",
    "    <li> EDA</li>\n",
    "    <li> Find a way to see the top technical skills required</li>\n",
    "    <li> Find key requirements</li>\n",
    "    <li> Find education level requirements</li>\n",
    "    <li> Find key responsibilities</li>\n",
    "\n",
    "</ul>"
   ],
   "cell_type": "markdown",
   "metadata": {}
  },
  {
   "cell_type": "code",
   "execution_count": 1,
   "metadata": {},
   "outputs": [
    {
     "output_type": "stream",
     "name": "stderr",
     "text": [
      "/Users/spydermac/opt/anaconda3/lib/python3.7/importlib/_bootstrap.py:219: RuntimeWarning: numpy.ufunc size changed, may indicate binary incompatibility. Expected 192 from C header, got 216 from PyObject\n  return f(*args, **kwds)\n"
     ]
    }
   ],
   "source": [
    "# library import \n",
    "import numpy as np \n",
    "import pandas as pd\n",
    "import matplotlib.pyplot as plt "
   ]
  },
  {
   "cell_type": "code",
   "execution_count": 4,
   "metadata": {},
   "outputs": [],
   "source": [
    "# reading data \n",
    "\n",
    "df = pd.read_csv(\"./text_to_df/job_df.csv\")"
   ]
  },
  {
   "cell_type": "code",
   "execution_count": 5,
   "metadata": {},
   "outputs": [
    {
     "output_type": "stream",
     "name": "stdout",
     "text": [
      "<class 'pandas.core.frame.DataFrame'>\nRangeIndex: 141 entries, 0 to 140\nData columns (total 9 columns):\n #   Column           Non-Null Count  Dtype \n---  ------           --------------  ----- \n 0   ids              141 non-null    int64 \n 1   title            141 non-null    object\n 2   company          141 non-null    object\n 3   location         141 non-null    object\n 4   text             141 non-null    object\n 5   seniority_level  136 non-null    object\n 6   industry         141 non-null    object\n 7   employment_type  141 non-null    object\n 8   job_function     141 non-null    object\ndtypes: int64(1), object(8)\nmemory usage: 10.0+ KB\n"
     ]
    }
   ],
   "source": [
    "df.info()"
   ]
  },
  {
   "cell_type": "code",
   "execution_count": 6,
   "metadata": {},
   "outputs": [
    {
     "output_type": "execute_result",
     "data": {
      "text/plain": [
       "   ids                                     title            company  \\\n",
       "0   56                         Software Engineer     Smartbox Group   \n",
       "1   21                              Data Analyst  Johnson & Johnson   \n",
       "2   34                      Senior Data Engineer         Vela Games   \n",
       "3  106                              Data Analyst            Dabster   \n",
       "4   51  AIB - Data Engineer – Data and Analytics                AIB   \n",
       "\n",
       "                         location  \\\n",
       "0  Dublin, County Dublin, Ireland   \n",
       "1      Cork, County Cork, Ireland   \n",
       "2  Dublin, County Dublin, Ireland   \n",
       "3      Cork, County Cork, Ireland   \n",
       "4                         Ireland   \n",
       "\n",
       "                                                text   seniority_level  \\\n",
       "0  Department: Technology  Reporting to: Software...         Associate   \n",
       "1  Data Analyst, Technical Operations (Global)  C...       Entry level   \n",
       "2  Vela Games is looking for a talented Senior Da...         Associate   \n",
       "3  Permanent Position  Cork , Ireland  Duties, Fu...       Entry level   \n",
       "4  Posted by Caroline Donlon 2nd Senior Business ...  Mid-Senior level   \n",
       "\n",
       "                                            industry employment_type  \\\n",
       "0              Leisure, Travel & Tourism Hospitality       Full-time   \n",
       "1  Medical Device Financial Services Pharmaceuticals       Full-time   \n",
       "2                Design Entertainment Computer Games       Full-time   \n",
       "3  Information Technology & Services Computer Sof...       Full-time   \n",
       "4                                            Banking       Full-time   \n",
       "\n",
       "                         job_function  \n",
       "0  Engineering Information Technology  \n",
       "1              Information Technology  \n",
       "2                         Engineering  \n",
       "3              Information Technology  \n",
       "4              Information Technology  "
      ],
      "text/html": "<div>\n<style scoped>\n    .dataframe tbody tr th:only-of-type {\n        vertical-align: middle;\n    }\n\n    .dataframe tbody tr th {\n        vertical-align: top;\n    }\n\n    .dataframe thead th {\n        text-align: right;\n    }\n</style>\n<table border=\"1\" class=\"dataframe\">\n  <thead>\n    <tr style=\"text-align: right;\">\n      <th></th>\n      <th>ids</th>\n      <th>title</th>\n      <th>company</th>\n      <th>location</th>\n      <th>text</th>\n      <th>seniority_level</th>\n      <th>industry</th>\n      <th>employment_type</th>\n      <th>job_function</th>\n    </tr>\n  </thead>\n  <tbody>\n    <tr>\n      <th>0</th>\n      <td>56</td>\n      <td>Software Engineer</td>\n      <td>Smartbox Group</td>\n      <td>Dublin, County Dublin, Ireland</td>\n      <td>Department: Technology  Reporting to: Software...</td>\n      <td>Associate</td>\n      <td>Leisure, Travel &amp; Tourism Hospitality</td>\n      <td>Full-time</td>\n      <td>Engineering Information Technology</td>\n    </tr>\n    <tr>\n      <th>1</th>\n      <td>21</td>\n      <td>Data Analyst</td>\n      <td>Johnson &amp; Johnson</td>\n      <td>Cork, County Cork, Ireland</td>\n      <td>Data Analyst, Technical Operations (Global)  C...</td>\n      <td>Entry level</td>\n      <td>Medical Device Financial Services Pharmaceuticals</td>\n      <td>Full-time</td>\n      <td>Information Technology</td>\n    </tr>\n    <tr>\n      <th>2</th>\n      <td>34</td>\n      <td>Senior Data Engineer</td>\n      <td>Vela Games</td>\n      <td>Dublin, County Dublin, Ireland</td>\n      <td>Vela Games is looking for a talented Senior Da...</td>\n      <td>Associate</td>\n      <td>Design Entertainment Computer Games</td>\n      <td>Full-time</td>\n      <td>Engineering</td>\n    </tr>\n    <tr>\n      <th>3</th>\n      <td>106</td>\n      <td>Data Analyst</td>\n      <td>Dabster</td>\n      <td>Cork, County Cork, Ireland</td>\n      <td>Permanent Position  Cork , Ireland  Duties, Fu...</td>\n      <td>Entry level</td>\n      <td>Information Technology &amp; Services Computer Sof...</td>\n      <td>Full-time</td>\n      <td>Information Technology</td>\n    </tr>\n    <tr>\n      <th>4</th>\n      <td>51</td>\n      <td>AIB - Data Engineer – Data and Analytics</td>\n      <td>AIB</td>\n      <td>Ireland</td>\n      <td>Posted by Caroline Donlon 2nd Senior Business ...</td>\n      <td>Mid-Senior level</td>\n      <td>Banking</td>\n      <td>Full-time</td>\n      <td>Information Technology</td>\n    </tr>\n  </tbody>\n</table>\n</div>"
     },
     "metadata": {},
     "execution_count": 6
    }
   ],
   "source": [
    "df.head()"
   ]
  },
  {
   "cell_type": "code",
   "execution_count": 15,
   "metadata": {},
   "outputs": [
    {
     "output_type": "stream",
     "name": "stdout",
     "text": [
      "Top 10 job titles: \n"
     ]
    },
    {
     "output_type": "execute_result",
     "data": {
      "text/plain": [
       "Data Scientist                      16\n",
       "Data Engineer                        8\n",
       "Senior Data Scientist                7\n",
       "Senior Data Engineer                 7\n",
       "Data Analyst                         6\n",
       "Software Engineer                    6\n",
       "Machine Learning Engineer            4\n",
       "UX Researcher                        3\n",
       "Software Developer                   3\n",
       "Graduate Data Scientist (Remote)     2\n",
       "Name: title, dtype: int64"
      ]
     },
     "metadata": {},
     "execution_count": 15
    }
   ],
   "source": [
    "print(\"Top 10 job titles: \")\n",
    "df.title.value_counts()[:10]"
   ]
  },
  {
   "cell_type": "code",
   "execution_count": 20,
   "metadata": {},
   "outputs": [
    {
     "output_type": "execute_result",
     "data": {
      "text/plain": [
       "Dublin              89\n",
       "Cork                16\n",
       "Galway               7\n",
       "Ireland              6\n",
       "Dublin City          5\n",
       "Limerick             3\n",
       "Shannon              2\n",
       "Waterford            2\n",
       "County Dublin        2\n",
       "Wicklow              1\n",
       "Carlow               1\n",
       "County Tipperary     1\n",
       "Sligo                1\n",
       "County Limerick      1\n",
       "Tipperary            1\n",
       "Killarney            1\n",
       "Donegal              1\n",
       "Letterkenny          1\n",
       "Name: location, dtype: int64"
      ]
     },
     "metadata": {},
     "execution_count": 20
    }
   ],
   "source": [
    "df.location.str.split(\",\").apply(lambda x: x[0]).value_counts()"
   ]
  },
  {
   "cell_type": "code",
   "execution_count": 10,
   "metadata": {},
   "outputs": [
    {
     "output_type": "execute_result",
     "data": {
      "text/plain": [
       "Full-time                                                                                                                                               128\n",
       "Contract                                                                                                                                                 11\n",
       "We are very happy to reward success, and so, with Idiro, you will have an opportunity to craft your career in a flexible and supportive environment.      1\n",
       "Competitive salary and OTE with good career prospects                                                                                                     1\n",
       "Name: employment_type, dtype: int64"
      ]
     },
     "metadata": {},
     "execution_count": 10
    }
   ],
   "source": [
    "df.employment_type.value_counts()"
   ]
  },
  {
   "cell_type": "code",
   "execution_count": 11,
   "metadata": {},
   "outputs": [
    {
     "output_type": "execute_result",
     "data": {
      "text/plain": [
       "Engineering Information Technology                     47\n",
       "Information Technology                                 46\n",
       "Engineering                                             7\n",
       "Other                                                   6\n",
       "Finance Sales                                           3\n",
       "Information Technology Engineering                      3\n",
       "Strategy/Planning Analyst Information Technology        2\n",
       "Information Technology Analyst Engineering              2\n",
       "Full-time                                               2\n",
       "Analyst Engineering Information Technology              2\n",
       "Customer Service                                        2\n",
       "Research Analyst Information Technology                 2\n",
       "Information Technology Analyst Strategy/Planning        1\n",
       "Analyst Information Technology Marketing                1\n",
       "Sales Business Development                              1\n",
       "Project Management General Business Analyst             1\n",
       "Research Strategy/Planning                              1\n",
       "Science                                                 1\n",
       "Research Engineering Science                            1\n",
       "Consulting Information Technology Engineering           1\n",
       "Management Strategy/Planning                            1\n",
       "Analyst Research Science                                1\n",
       "Information Technology Health Care Provider Analyst     1\n",
       "Research                                                1\n",
       "Engineering Information Technology Other                1\n",
       "Engineering Information Technology Analyst              1\n",
       "Manufacturing                                           1\n",
       "Engineering Analyst Strategy/Planning                   1\n",
       "Analyst Consulting Marketing                            1\n",
       "Name: job_function, dtype: int64"
      ]
     },
     "metadata": {},
     "execution_count": 11
    }
   ],
   "source": [
    "df.job_function.value_counts()"
   ]
  },
  {
   "cell_type": "code",
   "execution_count": 32,
   "metadata": {},
   "outputs": [
    {
     "output_type": "execute_result",
     "data": {
      "text/plain": [
       "['Job Description',\n",
       " \"Novartis continues to accelerate its growth in the digital world. As part of our continued growth we're hiring a Senior Data Scientist, Real World Evidence (RWE).\",\n",
       " 'The Senior Data Scientist will lead programming activities aligned with Novartis RWE strategies and implement these strategies at country level, including the programming and statistical analysis for RWE studies and dashboards.',\n",
       " \"In this role, you'll improve efficiency and quality by conducting RWE projects (including NIS) in support of Novartis products, helping us to reduce external spend on RWE projects. A key element to this role is the interpretation of payer research results to develop solid insights on explicit and implicit needs of payers, then using this payer environment knowledge to develop, optimal brand pricing, market-positioning and partner influence strategies. We'd love you to help us present our data using innovative visualisation methods.\",\n",
       " \"Our Senior Data Scientist also contributes to the timely listings, contract renewals of Novartis brands in addition to delivering high quality, impactful, product listing agreements and develops negotiation strategies in collaboration with the Health Policy and/or Access Team. You'll also manage multi-functional teams in the development and submission of evidence dossiers to HTA and/or P&R bodies.\",\n",
       " 'Your responsibilities include but are not limited to; Lead projects in the development of programming routines (such as SAS, R, Python) along with sophisticated SQL queries to extract, clean, manage, and analyze large databases for health outcomes research. Data sources include medical and pharmacy claims data, hospital data, electronic medical record data, and prospective observational study data Provide your expertise across analytical/technical aspects of the team including; machine learning, deep learning, data mining techniques, statistical techniques, dimensional reduction, R, Git and JIRA Provide leadership on the team on observational data analyses including data management and statistical programming involving new creative approaches, as well as the design and development of RWE dashboards and visualisations Be a key contact for customer engagement, ensure customer satisfaction and support department leadership on business development activities, presenting results, project summaries and analytical solutions to internal or external customers and partners Collaborate with the RWE Research Analysts to scope and design projects, interact with Regional Account Directors (RAD) medical specialists and strategy directors Drive consistency and compliance with company standards regarding project documentation for observational studies and interactive data visualization tools, including programming, specifications of analysis datasets, tables, figures and listings Provide support in the development of strategies to improve standardization techniques in order to improve efficiency Ensure the team’s success by strategically growing current team talent and supporting the team’s expansion by hiring new talent, nurturing and upskilling junior talent Manage the outsourcing of programming activities from Data Science to an approved vendor in accordance with Novartis vendor management procedures',\n",
       " ' Minimum Requirements',\n",
       " \"What you'll need: Bachelor’s degree in Computer Science, Bio-Informatics, Biostatistics, Statistics or similar field Extensive experience in programming or data science in the pharmaceutical industry, contract research organization or academic institute Proven technical abilities with data manipulation, analysis and visualisation including SAS or R, Python, SQL and other statistical software Knowledge of RWE data sources and standards such as MarketScan, CPRD, JMDC, Optum, PharMetrics, OMOP Solid experience in SQL querying using at least one of the following Hive, Impala, MySQL, OracleSQL or similar Good knowledge of machine learning and big-data platforms, e.g. Hadoop or Apache Spark Strong expertise in version control tool such as Git or JIRA Solid ability to communicate effectively with senior business partners, highly effective at prioritising and project manging in a supportive team environment Proficiency in English (oral and written)\",\n",
       " ' Nice to have: An open to experimentation and taking smart risks to support creative thinking that leads to practical solutions to healthcare and business challenges MA or PhD in a relevant field',\n",
       " ' Why consider Novartis?',\n",
       " '799 million. That’s how many lives our products touched in 2019. And while we’re proud of that fact, in this world of digital and technological transformation, we must also ask ourselves this: how can we continue to improve and extend even more people’s lives?',\n",
       " 'We believe the answers are found when curious, courageous and collaborative people like you are brought together in an inspiring environment. Where you’re given opportunities to explore the power of digital and data. Where you’re empowered to risk failure by taking smart risks, and where you’re surrounded by people who share your determination to tackle the world’s toughest medical challenges.',\n",
       " 'Imagine what you could do at Novartis!',\n",
       " 'Commitment to Diversity & Inclusion:',\n",
       " 'Novartis embraces diversity, equal opportunity and inclusion. We are committed to building diverse teams, representative of the patients and communities we serve, and we strive to create an inclusive workplace that cultivates bold innovation through collaboration, and empowers our people to unleash their full potential. Join our Novartis Network: If this role is not suitable to your experience or career goals but you wish to stay connected to learn more about Novartis and our career opportunities, join the Novartis Network here: https://talentnetwork.novartis.com/network',\n",
       " 'Division NBS',\n",
       " 'Business Unit NBS CONEXTS',\n",
       " 'Country Ireland',\n",
       " 'Work Location Dublin',\n",
       " 'Company/Legal Entity',\n",
       " 'Novartis Ireland Limited',\n",
       " 'Functional Area Market Access',\n",
       " 'Job Type Full Time',\n",
       " 'Employment Type Regular',\n",
       " 'Shift Work No']"
      ]
     },
     "metadata": {},
     "execution_count": 32
    }
   ],
   "source": [
    "df.text[6].split(\"  \")"
   ]
  },
  {
   "cell_type": "code",
   "execution_count": null,
   "metadata": {},
   "outputs": [],
   "source": []
  }
 ]
}