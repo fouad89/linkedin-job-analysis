{
 "metadata": {
  "language_info": {
   "codemirror_mode": {
    "name": "ipython",
    "version": 3
   },
   "file_extension": ".py",
   "mimetype": "text/x-python",
   "name": "python",
   "nbconvert_exporter": "python",
   "pygments_lexer": "ipython3",
   "version": "3.7.6"
  },
  "orig_nbformat": 4,
  "kernelspec": {
   "name": "python3",
   "display_name": "Python 3.7.6 64-bit ('base': conda)"
  },
  "interpreter": {
   "hash": "016f416f43c7de9d71e7f049375c6b8b903fae571cb02d2ed6c16dadea121115"
  }
 },
 "nbformat": 4,
 "nbformat_minor": 2,
 "cells": [
  {
   "source": [
    "## Analysis Part 2\n",
    "\n",
    "<ul style=\"font-size:20px;\">\n",
    "    <li> EDA</li>\n",
    "    <li> Find a way to see the top technical skills required</li>\n",
    "    <li> Find key requirements</li>\n",
    "    <li> Find education level requirements</li>\n",
    "    <li> Find key responsibilities</li>\n",
    "\n",
    "</ul>"
   ],
   "cell_type": "markdown",
   "metadata": {}
  },
  {
   "cell_type": "code",
   "execution_count": 140,
   "metadata": {},
   "outputs": [],
   "source": [
    "# library import \n",
    "import numpy as np \n",
    "import pandas as pd\n",
    "import matplotlib.pyplot as plt \n",
    "import pprint"
   ]
  },
  {
   "cell_type": "code",
   "execution_count": 141,
   "metadata": {},
   "outputs": [],
   "source": [
    "pp = pprint.PrettyPrinter(indent=4)\n"
   ]
  },
  {
   "cell_type": "code",
   "execution_count": 142,
   "metadata": {},
   "outputs": [],
   "source": [
    "# reading data \n",
    "\n",
    "df = pd.read_csv(\"./text_to_df/job_df.csv\")"
   ]
  },
  {
   "cell_type": "code",
   "execution_count": 143,
   "metadata": {},
   "outputs": [
    {
     "output_type": "stream",
     "name": "stdout",
     "text": [
      "<class 'pandas.core.frame.DataFrame'>\nRangeIndex: 141 entries, 0 to 140\nData columns (total 9 columns):\n #   Column           Non-Null Count  Dtype \n---  ------           --------------  ----- \n 0   ids              141 non-null    int64 \n 1   title            141 non-null    object\n 2   company          140 non-null    object\n 3   location         141 non-null    object\n 4   text             141 non-null    object\n 5   seniority_level  136 non-null    object\n 6   industry         141 non-null    object\n 7   employment_type  141 non-null    object\n 8   job_function     141 non-null    object\ndtypes: int64(1), object(8)\nmemory usage: 10.0+ KB\n"
     ]
    }
   ],
   "source": [
    "df.info()"
   ]
  },
  {
   "cell_type": "code",
   "execution_count": 144,
   "metadata": {},
   "outputs": [
    {
     "output_type": "execute_result",
     "data": {
      "text/plain": [
       "   ids                                     title            company  \\\n",
       "0   56                         Software Engineer     Smartbox Group   \n",
       "1   21                              Data Analyst  Johnson & Johnson   \n",
       "2   34                      Senior Data Engineer         Vela Games   \n",
       "3  106                              Data Analyst            Dabster   \n",
       "4   51  AIB - Data Engineer – Data and Analytics                AIB   \n",
       "\n",
       "                         location  \\\n",
       "0  Dublin, County Dublin, Ireland   \n",
       "1      Cork, County Cork, Ireland   \n",
       "2  Dublin, County Dublin, Ireland   \n",
       "3      Cork, County Cork, Ireland   \n",
       "4                         Ireland   \n",
       "\n",
       "                                                text   seniority_level  \\\n",
       "0  Department: Technology  Reporting to: Software...         Associate   \n",
       "1  Data Analyst, Technical Operations (Global)  C...       Entry level   \n",
       "2  Vela Games is looking for a talented Senior Da...         Associate   \n",
       "3  Permanent Position  Cork , Ireland  Duties, Fu...       Entry level   \n",
       "4  Posted by Caroline Donlon 2nd Senior Business ...  Mid-Senior level   \n",
       "\n",
       "                                            industry employment_type  \\\n",
       "0              Leisure, Travel & Tourism Hospitality       Full-time   \n",
       "1  Medical Device Financial Services Pharmaceuticals       Full-time   \n",
       "2                Design Entertainment Computer Games       Full-time   \n",
       "3  Information Technology & Services Computer Sof...       Full-time   \n",
       "4                                            Banking       Full-time   \n",
       "\n",
       "                         job_function  \n",
       "0  Engineering Information Technology  \n",
       "1              Information Technology  \n",
       "2                         Engineering  \n",
       "3              Information Technology  \n",
       "4              Information Technology  "
      ],
      "text/html": "<div>\n<style scoped>\n    .dataframe tbody tr th:only-of-type {\n        vertical-align: middle;\n    }\n\n    .dataframe tbody tr th {\n        vertical-align: top;\n    }\n\n    .dataframe thead th {\n        text-align: right;\n    }\n</style>\n<table border=\"1\" class=\"dataframe\">\n  <thead>\n    <tr style=\"text-align: right;\">\n      <th></th>\n      <th>ids</th>\n      <th>title</th>\n      <th>company</th>\n      <th>location</th>\n      <th>text</th>\n      <th>seniority_level</th>\n      <th>industry</th>\n      <th>employment_type</th>\n      <th>job_function</th>\n    </tr>\n  </thead>\n  <tbody>\n    <tr>\n      <th>0</th>\n      <td>56</td>\n      <td>Software Engineer</td>\n      <td>Smartbox Group</td>\n      <td>Dublin, County Dublin, Ireland</td>\n      <td>Department: Technology  Reporting to: Software...</td>\n      <td>Associate</td>\n      <td>Leisure, Travel &amp; Tourism Hospitality</td>\n      <td>Full-time</td>\n      <td>Engineering Information Technology</td>\n    </tr>\n    <tr>\n      <th>1</th>\n      <td>21</td>\n      <td>Data Analyst</td>\n      <td>Johnson &amp; Johnson</td>\n      <td>Cork, County Cork, Ireland</td>\n      <td>Data Analyst, Technical Operations (Global)  C...</td>\n      <td>Entry level</td>\n      <td>Medical Device Financial Services Pharmaceuticals</td>\n      <td>Full-time</td>\n      <td>Information Technology</td>\n    </tr>\n    <tr>\n      <th>2</th>\n      <td>34</td>\n      <td>Senior Data Engineer</td>\n      <td>Vela Games</td>\n      <td>Dublin, County Dublin, Ireland</td>\n      <td>Vela Games is looking for a talented Senior Da...</td>\n      <td>Associate</td>\n      <td>Design Entertainment Computer Games</td>\n      <td>Full-time</td>\n      <td>Engineering</td>\n    </tr>\n    <tr>\n      <th>3</th>\n      <td>106</td>\n      <td>Data Analyst</td>\n      <td>Dabster</td>\n      <td>Cork, County Cork, Ireland</td>\n      <td>Permanent Position  Cork , Ireland  Duties, Fu...</td>\n      <td>Entry level</td>\n      <td>Information Technology &amp; Services Computer Sof...</td>\n      <td>Full-time</td>\n      <td>Information Technology</td>\n    </tr>\n    <tr>\n      <th>4</th>\n      <td>51</td>\n      <td>AIB - Data Engineer – Data and Analytics</td>\n      <td>AIB</td>\n      <td>Ireland</td>\n      <td>Posted by Caroline Donlon 2nd Senior Business ...</td>\n      <td>Mid-Senior level</td>\n      <td>Banking</td>\n      <td>Full-time</td>\n      <td>Information Technology</td>\n    </tr>\n  </tbody>\n</table>\n</div>"
     },
     "metadata": {},
     "execution_count": 144
    }
   ],
   "source": [
    "df.head()"
   ]
  },
  {
   "cell_type": "code",
   "execution_count": 145,
   "metadata": {},
   "outputs": [
    {
     "output_type": "stream",
     "name": "stdout",
     "text": [
      "Top 10 job titles: \n"
     ]
    },
    {
     "output_type": "execute_result",
     "data": {
      "text/plain": [
       "Data Scientist                      16\n",
       "Data Engineer                        8\n",
       "Senior Data Scientist                7\n",
       "Senior Data Engineer                 7\n",
       "Data Analyst                         6\n",
       "Software Engineer                    6\n",
       "Machine Learning Engineer            4\n",
       "UX Researcher                        3\n",
       "Software Developer                   3\n",
       "Graduate Data Scientist (Remote)     2\n",
       "Name: title, dtype: int64"
      ]
     },
     "metadata": {},
     "execution_count": 145
    }
   ],
   "source": [
    "print(\"Top 10 job titles: \")\n",
    "df.title.value_counts()[:10]"
   ]
  },
  {
   "cell_type": "code",
   "execution_count": 146,
   "metadata": {},
   "outputs": [
    {
     "output_type": "execute_result",
     "data": {
      "text/plain": [
       "Dublin              89\n",
       "Cork                16\n",
       "Galway               7\n",
       "Ireland              5\n",
       "Dublin City          5\n",
       "Limerick             3\n",
       "County Dublin        2\n",
       "Waterford            2\n",
       "Shannon              2\n",
       "Carlow               1\n",
       "Killarney            1\n",
       "Apex Systems         1\n",
       "County Tipperary     1\n",
       "Wicklow              1\n",
       "Tipperary            1\n",
       "Sligo                1\n",
       "Donegal              1\n",
       "Letterkenny          1\n",
       "County Limerick      1\n",
       "Name: location, dtype: int64"
      ]
     },
     "metadata": {},
     "execution_count": 146
    }
   ],
   "source": [
    "df.location.str.split(\",\").apply(lambda x: x[0]).value_counts()"
   ]
  },
  {
   "cell_type": "code",
   "execution_count": 147,
   "metadata": {},
   "outputs": [
    {
     "output_type": "execute_result",
     "data": {
      "text/plain": [
       "Full-time                                                                                                                                               128\n",
       "Contract                                                                                                                                                 11\n",
       "We are very happy to reward success, and so, with Idiro, you will have an opportunity to craft your career in a flexible and supportive environment.      1\n",
       "Competitive salary and OTE with good career prospects                                                                                                     1\n",
       "Name: employment_type, dtype: int64"
      ]
     },
     "metadata": {},
     "execution_count": 147
    }
   ],
   "source": [
    "df.employment_type.value_counts()"
   ]
  },
  {
   "cell_type": "code",
   "execution_count": 148,
   "metadata": {},
   "outputs": [
    {
     "output_type": "execute_result",
     "data": {
      "text/plain": [
       "Engineering Information Technology                     47\n",
       "Information Technology                                 46\n",
       "Engineering                                             7\n",
       "Other                                                   6\n",
       "Information Technology Engineering                      3\n",
       "Finance Sales                                           3\n",
       "Analyst Engineering Information Technology              2\n",
       "Research Analyst Information Technology                 2\n",
       "Customer Service                                        2\n",
       "Full-time                                               2\n",
       "Strategy/Planning Analyst Information Technology        2\n",
       "Information Technology Analyst Engineering              2\n",
       "Consulting Information Technology Engineering           1\n",
       "Science                                                 1\n",
       "Research Engineering Science                            1\n",
       "Research Strategy/Planning                              1\n",
       "Engineering Information Technology Other                1\n",
       "Management Strategy/Planning                            1\n",
       "Research                                                1\n",
       "Engineering Analyst Strategy/Planning                   1\n",
       "Analyst Research Science                                1\n",
       "Analyst Consulting Marketing                            1\n",
       "Information Technology Health Care Provider Analyst     1\n",
       "Analyst Information Technology Marketing                1\n",
       "Manufacturing                                           1\n",
       "Sales Business Development                              1\n",
       "Project Management General Business Analyst             1\n",
       "Information Technology Analyst Strategy/Planning        1\n",
       "Engineering Information Technology Analyst              1\n",
       "Name: job_function, dtype: int64"
      ]
     },
     "metadata": {},
     "execution_count": 148
    }
   ],
   "source": [
    "df.job_function.value_counts()"
   ]
  },
  {
   "cell_type": "code",
   "execution_count": 149,
   "metadata": {},
   "outputs": [
    {
     "output_type": "execute_result",
     "data": {
      "text/plain": [
       "['Vela Games is looking for a talented Senior Data Engineer to help build our New Multiplayer Game.',\n",
       " 'At Vela we love games of every type, but we know that multiplayer, when done well, has a special ability to bring people together. Unforgettable moments are created through the power of playing together. It allows players to keep in touch with old friends regardless of distance, and to forge new friendships that will last lifetimes. Vela was created with these moments in mind, and our focus every day is thinking about how we can create impactful gaming experiences that inspire gamers around the world to play and win collectively.',\n",
       " 'We are looking for someone who wants to be part of the core foundation of Vela Games; someone who is enthusiastic about being part of an early tight-knit team laser-focused on creating a game from the ground up. As a Data Engineer, you have the ability to shape and build the Vela Games’ data lake and supporting systems for years to come. We can rely on your deep expertise in the design, creation, management, and business use of large datasets, across a variety of data platforms.You are passionate about working with huge data sets and enjoy bringing these together to answer business questions to help drive growth and optimize player experience.',\n",
       " 'If this sounds like you, please apply, we would love to speak with you !',\n",
       " 'What You Will Do Architect and build the infrastructure required for the optimal ETL’ of data from a wide variety of data sources using SQL and AWS ‘big data’ technologies. Build, optimize and maintain data pipelines and applications to stream and process large datasets at low latencies. Provide analytics tools that utilize the data pipeline to provide actionable insights into player metrics, gameplay insights and other key business performance metrics. Keep our data separated and secure across national boundaries (or EEA) through multiple data centers and AWS regions. Work with data and insights experts to strive for greater functionality in our data systems.',\n",
       " ' Requirements A number of years working knowledge with ETL, Data Modeling, and Data Architecture. Expert-level skills in writing and optimizing SQL. Experience with Big Data technologies such as Hadoop/Hive/Spark. Excellent communication skills Ability to effectively converse with technical & non-technical team members. Self-motivated / have a growth mindset Ability to team up, but also take the lead and work independently when needed. Start-up orientation Strong technical focus, but also able to jump on and contribute to work outside specialization. Deep passion for multiplayer games and player experience.',\n",
       " 'Bonus Points Proven Understanding operating very large data warehouses or data lakes. Familiarity with programming languages (e.g., Python, Golang). Previous AAA PC or console game development experience. Previous experience working on an online multiplayer service game.',\n",
       " ' At Vela Games we are committed to creating a workplace where everyone feels safe, respected & valued. We continue to create a culture where everyone has equal opportunities to thrive in a fully inclusive environment. Diversity & Inclusion is embedded in everything we do and we are dedicated to creating a unique and welcoming environment to all who apply and ultimately join our team!',\n",
       " 'Covid-19 Hiring Update We’ve transitioned to a work-from-home model and we’re continuing to interview and hire during this time. This role is expected to begin as a remote position but transition to full time in Dublin, Ireland at a later date. We Appreciate each person’s circumstances may be unique and will work with you to explore possible interim options.']"
      ]
     },
     "metadata": {},
     "execution_count": 149
    }
   ],
   "source": [
    "df.text[2].split(\"  \")"
   ]
  },
  {
   "cell_type": "code",
   "execution_count": 150,
   "metadata": {},
   "outputs": [],
   "source": [
    "def get_text_titles(text):\n",
    "    text = text.split(\"  \")\n",
    "    return text\n",
    "    "
   ]
  },
  {
   "cell_type": "code",
   "execution_count": 151,
   "metadata": {},
   "outputs": [
    {
     "output_type": "stream",
     "name": "stdout",
     "text": [
      "['Data Analyst, Technical Operations (Global)', 'Cork, remote working', '6 months', '€22 PAYE/ €27 LTD per hour', 'Designing, modeling, testing, implementing a Power BI database utilizing multiple excel documents.', 'Goal Drive analytical capability development and subsequently converge onto the future state tech stack. Develop Project plans, support the project management for the analytics capability development on the Discovery platform. Collaborate with analytics and platform teams to support platform roadmap & strategy Help in identifying the right partners, process and technology capabilities that are needed to drive increased data and analytics maturity. Connect & influence supply chain & analytical stakeholders to drive the integration of data analytics into the End-to-End Supply Chain Processes. Data exploration for new capabilities, knowledge of data sources (ERPs, PLAN systems etc.), functional interpretation, knowledge of Data Engineering - the design, development, validation, scaling and delivery of analytical solutions A system that would host large databases with multiple tables, allow for user inputs, and the possibility of visual reports', 'Requirements Power BI is a possible solution, as it is more user-friendly than MS Access and SQL Server. Create a user interface to the data (Utilising power tools) and integrate excel reporting. 6 months experience in a Data Analytics role Degree Educated (Business Information Systems/ Business/ Commerce) Database creation: built from multiple forms, spreadsheets, and documents hosted in a SharePoint or local drive(s) User interface: forms would collect info from users and feed the database. With the expectation of around 300 users, is recommended to use multiple forms to minimize issues with SharePoint capacity;']\n"
     ]
    }
   ],
   "source": [
    "print(get_text_titles(df.text[1]))"
   ]
  },
  {
   "cell_type": "code",
   "execution_count": 152,
   "metadata": {},
   "outputs": [],
   "source": [
    "example =df.text[7]\n",
    "full_text = get_text_titles(example)"
   ]
  },
  {
   "cell_type": "code",
   "execution_count": 153,
   "metadata": {},
   "outputs": [],
   "source": [
    "# get titles & their index in the full_texzt\n",
    "titles = [title for title in full_text if len(title.split()) <=5 ]\n",
    "titles_index = [full_text.index(i) for i in titles]"
   ]
  },
  {
   "cell_type": "code",
   "execution_count": 154,
   "metadata": {},
   "outputs": [
    {
     "output_type": "execute_result",
     "data": {
      "text/plain": [
       "[0, 4, 6, 8, 11]"
      ]
     },
     "metadata": {},
     "execution_count": 154
    }
   ],
   "source": [
    "titles_index"
   ]
  },
  {
   "cell_type": "code",
   "execution_count": 155,
   "metadata": {},
   "outputs": [
    {
     "output_type": "execute_result",
     "data": {
      "text/plain": [
       "['Job Description',\n",
       " 'How You Will Contribute',\n",
       " 'What You Will Bring',\n",
       " 'More About This Role',\n",
       " 'Education / Certifications']"
      ]
     },
     "metadata": {},
     "execution_count": 155
    }
   ],
   "source": [
    "titles"
   ]
  },
  {
   "cell_type": "code",
   "execution_count": 156,
   "metadata": {},
   "outputs": [],
   "source": [
    "# each segment title as key, and the joined text that follows as the value\n",
    "segment_dict = { }\n",
    "for i in range(len(titles) - 1):\n",
    "    segment_dict[titles[i]] = ' '.join(full_text[titles_index[i]+1:titles_index[i+1]])\n",
    "\n",
    "# the last item of the titles \n",
    "segment_dict[titles[-1]] = ' '.join(full_text[titles_index[-1]+1:])"
   ]
  },
  {
   "cell_type": "code",
   "execution_count": 157,
   "metadata": {},
   "outputs": [
    {
     "output_type": "execute_result",
     "data": {
      "text/plain": [
       "dict_keys(['Job Description', 'How You Will Contribute', 'What You Will Bring', 'More About This Role', 'Education / Certifications'])"
      ]
     },
     "metadata": {},
     "execution_count": 157
    }
   ],
   "source": [
    "segment_dict.keys()"
   ]
  },
  {
   "cell_type": "code",
   "execution_count": 158,
   "metadata": {},
   "outputs": [
    {
     "output_type": "stream",
     "name": "stdout",
     "text": [
      "{   'Education / Certifications': 'Either of the following is applicable as '\n                                  'educational criteria for the position: '\n                                  'Degree/Masters in quantitative field of '\n                                  'Statistics, Applied Mathematics or '\n                                  'Engineering, with specific full-time '\n                                  'courses in Analytics Certifications any of '\n                                  'SAS Base, SAS VF, SAS Visual Statistics, '\n                                  'etc Strong Applied Knowledge of analytical '\n                                  'techniques in statistical modelling, '\n                                  'machine learning with exposure to '\n                                  'forecasting domain especially driver based '\n                                  'forecasting Experience on working with '\n                                  'FMCG, Food & Beverages, Retail or similar '\n                                  'industry data with understanding the '\n                                  'business process with be advantage Should '\n                                  'be able to articulate data science outcome '\n                                  'into business understandable language '\n                                  'Fluent English, other European languages '\n                                  'would be an advantage. The responsibilities '\n                                  'of this position are performed within the '\n                                  'framework of a regional business model that '\n                                  'is defined and managed by Mondelēz Europe '\n                                  'GmbH, Switzerland . No Relocation support '\n                                  'available, however for candidates '\n                                  'voluntarily moving internationally some '\n                                  'minimal support is offered through our '\n                                  'Volunteer International Transfer Policy '\n                                  'Business Unit Summary At Mondelez Europe, '\n                                  'we are proud, not only of the iconic brands '\n                                  'we make, but also of the people who make '\n                                  'them. Our delicious products are created in '\n                                  '52 plants across Europe by more than 28,000 '\n                                  'passionate people. We are the top maker of '\n                                  'chocolate and biscuits and a leading maker '\n                                  'of gum and candy. We make sure our powerful '\n                                  'global brands and local jewels like '\n                                  'Cadbury, Milka and Alpen Gold chocolates, '\n                                  'Oreo, belVita, LU and Tuc biscuits, and '\n                                  'Stimorol and Dirol gums get safely into our '\n                                  'customers hands—and mouths. Great people '\n                                  'and great brands. That’s who we are. Join '\n                                  'us on our journey to continue leading the '\n                                  'future of snacking around the world by '\n                                  'offering the right snack, for the right '\n                                  'moment, made the right way. Mondelēz '\n                                  'International is an equal opportunity '\n                                  'employer and all qualified applicants will '\n                                  'receive consideration for employment '\n                                  'without regard to race, color, religion, '\n                                  'gender, sexual orientation or preference, '\n                                  'gender identity, national origin, '\n                                  'disability status, protected veteran '\n                                  'status, or any other characteristic '\n                                  'protected by law. Job Type RegularData '\n                                  'ScienceAnalytics & Data Science',\n    'How You Will Contribute': 'You will: Analyze and derive value from data '\n                               'through the application methods such as '\n                               'mathematics, statistics, computer science, '\n                               'machine learning and data visualization. In '\n                               'this role you will also formulate hypotheses '\n                               'and test them using math, statistics, '\n                               'visualization and predictive modeling '\n                               'Understand business challenges, create '\n                               'valuable actionable insights about the data, '\n                               'and communicate your findings to the business. '\n                               'After that you will work with stakeholders to '\n                               'determine how to use business data for '\n                               'business solutions/insights Enable data-driven '\n                               'decision making by creating custom models or '\n                               'prototypes from trends or patterns discerned '\n                               'and by underscoring implications. Coordinate '\n                               'with other technical/functional teams to '\n                               'implement models and monitor results Apply '\n                               'mathematical, statistical, predictive '\n                               'modelling or machine-learning techniques and '\n                               'with sensitivity to the limitations of the '\n                               'techniques. Select, acquire and integrate data '\n                               'for analysis. Develop data hypotheses and '\n                               'methods, train and evaluate analytics models, '\n                               'share insights and findings and continues to '\n                               'iterate with additional data Develop '\n                               'processes, techniques, and tools to analyze '\n                               'and monitor model performance while ensuring '\n                               'data accuracy Evaluate the need for analytics, '\n                               'assess the problems to be solved and what '\n                               'internal or external data sources to use or '\n                               'acquire. Specify and apply appropriate '\n                               'mathematical, statistical, predictive '\n                               'modelling or machine-learning techniques to '\n                               'analyze data, generate insights, create value '\n                               'and support decision making Contribute to '\n                               'exploration and experimentation in data '\n                               'visualization and you will manage reviews of '\n                               'the benefits and value of analytics techniques '\n                               'and tools and recommend improvements',\n    'Job Description': 'Are You Ready to Make It Happen at Mondelēz '\n                       'International? Join our Mission to Lead the Future of '\n                       'Snacking. Make It With Pride. You will be crucial in '\n                       'supporting our business by creating valuable, '\n                       'actionable insights about the data, and communicating '\n                       'your findings to the business. You will work with '\n                       'various stakeholders to determine how to use business '\n                       'data for business solutions/insights.',\n    'More About This Role': 'What you need to know about this position: The '\n                            'Data Scientist forecasting will be responsible '\n                            'for advanced forecasting methodologies for demand '\n                            'forecasting to generate better forecasting '\n                            'results in terms of accuracy and bias Determine, '\n                            'create and maintain the best Statistical models '\n                            'be to be used, by considering SKU demand behavior '\n                            'using segmentation strategy, to generate high '\n                            'quality demand statistical forecast with low '\n                            'forecast error and bias Collaborate with Demand '\n                            'Planners to identify right drivers and lever '\n                            'which influences demand and thus incorporate in '\n                            'statistical forecasting process Support SAS '\n                            'Implementation for market for demand modelling in '\n                            'SAS and SAS Model Forecast Improvement activity. '\n                            'Keep close liaison with SAS implementation '\n                            'partner to get transitioned process to Central '\n                            'Analytics Team Refine forecasting models, by '\n                            'reviewing forecast performance and incorporating '\n                            'feedback from the Demand Planner, to improve '\n                            'forecast error and bias metrics Analyze the model '\n                            'performance every month / week (Where MAPE is '\n                            'deteriorating etc) and post process the output '\n                            'and if required finetune the output Propose '\n                            'additional data elements which we can consume and '\n                            'work with ETL developer to get those into SAS '\n                            'staging and SAS ABTs Run demand-supply '\n                            'segmentation analysis as per defined frequency',\n    'What You Will Bring': 'A desire to drive your future and accelerate your '\n                           'career and the following experience and knowledge: '\n                           'Strong quantitative skillset with experience in '\n                           'statistics and ML A natural inclination toward '\n                           'solving complex problems Knowledge/experience with '\n                           'statistical programming languages including SAS, '\n                           'R, Python, SQL, etc., to process data and gain '\n                           'insights from it Knowledge of machine learning '\n                           'techniques including decision-tree learning (R '\n                           'andom Forest, Gradient Boost) clustering, '\n                           'artificial neural networks, etc., and their pros '\n                           'and cons. Knowledge and experience in advanced '\n                           'statistical techniques and concepts including, '\n                           'regression, distribution properties, statistical '\n                           'testing, etc. Good communication skills to promote '\n                           'cross-team collaboration Experience/knowledge in '\n                           'statistics and data mining techniques including '\n                           'random forest, GLM/regression, social network '\n                           'analysis, text mining, etc. Ability to use data '\n                           'visualization tools to showcase data for '\n                           'stakeholders'}\n"
     ]
    }
   ],
   "source": [
    "pp.pprint(segment_dict)"
   ]
  },
  {
   "cell_type": "code",
   "execution_count": 159,
   "metadata": {},
   "outputs": [],
   "source": [
    "def text_split_len(text):\n",
    "    return len(text.split(\"  \"))"
   ]
  },
  {
   "cell_type": "code",
   "execution_count": 160,
   "metadata": {},
   "outputs": [],
   "source": [
    "df[\"len_double_space\"] = df.text.apply(text_split_len)"
   ]
  },
  {
   "cell_type": "code",
   "execution_count": 161,
   "metadata": {},
   "outputs": [],
   "source": [
    "df[\"len_new_line\"] = df.text.apply(text_split_len)"
   ]
  },
  {
   "cell_type": "code",
   "execution_count": null,
   "metadata": {},
   "outputs": [],
   "source": []
  },
  {
   "cell_type": "code",
   "execution_count": null,
   "metadata": {},
   "outputs": [],
   "source": []
  },
  {
   "cell_type": "code",
   "execution_count": null,
   "metadata": {},
   "outputs": [],
   "source": []
  },
  {
   "cell_type": "code",
   "execution_count": null,
   "metadata": {},
   "outputs": [],
   "source": []
  },
  {
   "cell_type": "code",
   "execution_count": 162,
   "metadata": {},
   "outputs": [
    {
     "output_type": "execute_result",
     "data": {
      "text/plain": [
       "     ids                                     title                 company  \\\n",
       "0     56                         Software Engineer          Smartbox Group   \n",
       "1     21                              Data Analyst       Johnson & Johnson   \n",
       "2     34                      Senior Data Engineer              Vela Games   \n",
       "3    106                              Data Analyst                 Dabster   \n",
       "4     51  AIB - Data Engineer – Data and Analytics                     AIB   \n",
       "..   ...                                       ...                     ...   \n",
       "136   66                  Data Analyst (Marketing)  Azon Recruitment Group   \n",
       "137   71                             Data Engineer         Verizon Connect   \n",
       "138   17       Data Engineer - AI Analytics - Cork         Jefferson Frank   \n",
       "139   29                   Data Scientist - Remote   Reperio Human Capital   \n",
       "140   19    Postdoctoral Researcher Huawei Project  Dublin City University   \n",
       "\n",
       "                                location  \\\n",
       "0         Dublin, County Dublin, Ireland   \n",
       "1             Cork, County Cork, Ireland   \n",
       "2         Dublin, County Dublin, Ireland   \n",
       "3             Cork, County Cork, Ireland   \n",
       "4                                Ireland   \n",
       "..                                   ...   \n",
       "136       Dublin, County Dublin, Ireland   \n",
       "137  Dublin City, County Dublin, Ireland   \n",
       "138           Cork, County Cork, Ireland   \n",
       "139           Cork, County Cork, Ireland   \n",
       "140       Dublin, County Dublin, Ireland   \n",
       "\n",
       "                                                  text   seniority_level  \\\n",
       "0    Department: Technology  Reporting to: Software...         Associate   \n",
       "1    Data Analyst, Technical Operations (Global)  C...       Entry level   \n",
       "2    Vela Games is looking for a talented Senior Da...         Associate   \n",
       "3    Permanent Position  Cork , Ireland  Duties, Fu...       Entry level   \n",
       "4    Posted by Caroline Donlon 2nd Senior Business ...  Mid-Senior level   \n",
       "..                                                 ...               ...   \n",
       "136  Posted by Laura Murphy 2nd Recruitment Consult...       Entry level   \n",
       "137  Posted by Ian Cummins 2nd Senior Technical Rec...  Mid-Senior level   \n",
       "138  Data Engineer  Cork - Flexible Remote Working ...       Entry level   \n",
       "139  (Artificial Intelligence)  Exciting new opport...       Entry level   \n",
       "140  Research Centre  Insight SFI Research Centre f...       Entry level   \n",
       "\n",
       "                                              industry employment_type  \\\n",
       "0                Leisure, Travel & Tourism Hospitality       Full-time   \n",
       "1    Medical Device Financial Services Pharmaceuticals       Full-time   \n",
       "2                  Design Entertainment Computer Games       Full-time   \n",
       "3    Information Technology & Services Computer Sof...       Full-time   \n",
       "4                                              Banking       Full-time   \n",
       "..                                                 ...             ...   \n",
       "136  Financial Services Information Technology & Se...       Full-time   \n",
       "137                  Information Technology & Services       Full-time   \n",
       "138  Information Technology & Services Staffing & R...       Full-time   \n",
       "139  Information Technology & Services Computer Sof...       Full-time   \n",
       "140     Higher Education Education Management Research        Contract   \n",
       "\n",
       "                                 job_function  len_double_space  len_new_line  \n",
       "0          Engineering Information Technology                10            10  \n",
       "1                      Information Technology                 7             7  \n",
       "2                                 Engineering                 9             9  \n",
       "3                      Information Technology                 4             4  \n",
       "4                      Information Technology                11            11  \n",
       "..                                        ...               ...           ...  \n",
       "136  Analyst Information Technology Marketing                12            12  \n",
       "137                    Information Technology                12            12  \n",
       "138                    Information Technology                 7             7  \n",
       "139        Engineering Information Technology                 8             8  \n",
       "140   Research Analyst Information Technology                34            34  \n",
       "\n",
       "[141 rows x 11 columns]"
      ],
      "text/html": "<div>\n<style scoped>\n    .dataframe tbody tr th:only-of-type {\n        vertical-align: middle;\n    }\n\n    .dataframe tbody tr th {\n        vertical-align: top;\n    }\n\n    .dataframe thead th {\n        text-align: right;\n    }\n</style>\n<table border=\"1\" class=\"dataframe\">\n  <thead>\n    <tr style=\"text-align: right;\">\n      <th></th>\n      <th>ids</th>\n      <th>title</th>\n      <th>company</th>\n      <th>location</th>\n      <th>text</th>\n      <th>seniority_level</th>\n      <th>industry</th>\n      <th>employment_type</th>\n      <th>job_function</th>\n      <th>len_double_space</th>\n      <th>len_new_line</th>\n    </tr>\n  </thead>\n  <tbody>\n    <tr>\n      <th>0</th>\n      <td>56</td>\n      <td>Software Engineer</td>\n      <td>Smartbox Group</td>\n      <td>Dublin, County Dublin, Ireland</td>\n      <td>Department: Technology  Reporting to: Software...</td>\n      <td>Associate</td>\n      <td>Leisure, Travel &amp; Tourism Hospitality</td>\n      <td>Full-time</td>\n      <td>Engineering Information Technology</td>\n      <td>10</td>\n      <td>10</td>\n    </tr>\n    <tr>\n      <th>1</th>\n      <td>21</td>\n      <td>Data Analyst</td>\n      <td>Johnson &amp; Johnson</td>\n      <td>Cork, County Cork, Ireland</td>\n      <td>Data Analyst, Technical Operations (Global)  C...</td>\n      <td>Entry level</td>\n      <td>Medical Device Financial Services Pharmaceuticals</td>\n      <td>Full-time</td>\n      <td>Information Technology</td>\n      <td>7</td>\n      <td>7</td>\n    </tr>\n    <tr>\n      <th>2</th>\n      <td>34</td>\n      <td>Senior Data Engineer</td>\n      <td>Vela Games</td>\n      <td>Dublin, County Dublin, Ireland</td>\n      <td>Vela Games is looking for a talented Senior Da...</td>\n      <td>Associate</td>\n      <td>Design Entertainment Computer Games</td>\n      <td>Full-time</td>\n      <td>Engineering</td>\n      <td>9</td>\n      <td>9</td>\n    </tr>\n    <tr>\n      <th>3</th>\n      <td>106</td>\n      <td>Data Analyst</td>\n      <td>Dabster</td>\n      <td>Cork, County Cork, Ireland</td>\n      <td>Permanent Position  Cork , Ireland  Duties, Fu...</td>\n      <td>Entry level</td>\n      <td>Information Technology &amp; Services Computer Sof...</td>\n      <td>Full-time</td>\n      <td>Information Technology</td>\n      <td>4</td>\n      <td>4</td>\n    </tr>\n    <tr>\n      <th>4</th>\n      <td>51</td>\n      <td>AIB - Data Engineer – Data and Analytics</td>\n      <td>AIB</td>\n      <td>Ireland</td>\n      <td>Posted by Caroline Donlon 2nd Senior Business ...</td>\n      <td>Mid-Senior level</td>\n      <td>Banking</td>\n      <td>Full-time</td>\n      <td>Information Technology</td>\n      <td>11</td>\n      <td>11</td>\n    </tr>\n    <tr>\n      <th>...</th>\n      <td>...</td>\n      <td>...</td>\n      <td>...</td>\n      <td>...</td>\n      <td>...</td>\n      <td>...</td>\n      <td>...</td>\n      <td>...</td>\n      <td>...</td>\n      <td>...</td>\n      <td>...</td>\n    </tr>\n    <tr>\n      <th>136</th>\n      <td>66</td>\n      <td>Data Analyst (Marketing)</td>\n      <td>Azon Recruitment Group</td>\n      <td>Dublin, County Dublin, Ireland</td>\n      <td>Posted by Laura Murphy 2nd Recruitment Consult...</td>\n      <td>Entry level</td>\n      <td>Financial Services Information Technology &amp; Se...</td>\n      <td>Full-time</td>\n      <td>Analyst Information Technology Marketing</td>\n      <td>12</td>\n      <td>12</td>\n    </tr>\n    <tr>\n      <th>137</th>\n      <td>71</td>\n      <td>Data Engineer</td>\n      <td>Verizon Connect</td>\n      <td>Dublin City, County Dublin, Ireland</td>\n      <td>Posted by Ian Cummins 2nd Senior Technical Rec...</td>\n      <td>Mid-Senior level</td>\n      <td>Information Technology &amp; Services</td>\n      <td>Full-time</td>\n      <td>Information Technology</td>\n      <td>12</td>\n      <td>12</td>\n    </tr>\n    <tr>\n      <th>138</th>\n      <td>17</td>\n      <td>Data Engineer - AI Analytics - Cork</td>\n      <td>Jefferson Frank</td>\n      <td>Cork, County Cork, Ireland</td>\n      <td>Data Engineer  Cork - Flexible Remote Working ...</td>\n      <td>Entry level</td>\n      <td>Information Technology &amp; Services Staffing &amp; R...</td>\n      <td>Full-time</td>\n      <td>Information Technology</td>\n      <td>7</td>\n      <td>7</td>\n    </tr>\n    <tr>\n      <th>139</th>\n      <td>29</td>\n      <td>Data Scientist - Remote</td>\n      <td>Reperio Human Capital</td>\n      <td>Cork, County Cork, Ireland</td>\n      <td>(Artificial Intelligence)  Exciting new opport...</td>\n      <td>Entry level</td>\n      <td>Information Technology &amp; Services Computer Sof...</td>\n      <td>Full-time</td>\n      <td>Engineering Information Technology</td>\n      <td>8</td>\n      <td>8</td>\n    </tr>\n    <tr>\n      <th>140</th>\n      <td>19</td>\n      <td>Postdoctoral Researcher Huawei Project</td>\n      <td>Dublin City University</td>\n      <td>Dublin, County Dublin, Ireland</td>\n      <td>Research Centre  Insight SFI Research Centre f...</td>\n      <td>Entry level</td>\n      <td>Higher Education Education Management Research</td>\n      <td>Contract</td>\n      <td>Research Analyst Information Technology</td>\n      <td>34</td>\n      <td>34</td>\n    </tr>\n  </tbody>\n</table>\n<p>141 rows × 11 columns</p>\n</div>"
     },
     "metadata": {},
     "execution_count": 162
    }
   ],
   "source": [
    "df"
   ]
  },
  {
   "cell_type": "code",
   "execution_count": 164,
   "metadata": {},
   "outputs": [
    {
     "output_type": "execute_result",
     "data": {
      "text/plain": [
       "True"
      ]
     },
     "metadata": {},
     "execution_count": 164
    }
   ],
   "source": [
    "# checking if use of double space or new line give the same valuse\n",
    "# it looks like it does! \n",
    "df[\"len_double_space\"].equals(df.len_new_line)"
   ]
  },
  {
   "cell_type": "code",
   "execution_count": 165,
   "metadata": {},
   "outputs": [
    {
     "output_type": "stream",
     "name": "stdout",
     "text": [
      "[78, 118, 133, 100, 102, 50, 113, 46, 20]\n"
     ]
    }
   ],
   "source": [
    "# get ids of documents with less than 3 to modify\n",
    "ids_less_3 = df[df.len_double_space <=3].ids.to_list()\n",
    "print(ids_less_3)"
   ]
  },
  {
   "cell_type": "code",
   "execution_count": 166,
   "metadata": {},
   "outputs": [],
   "source": [
    "import os"
   ]
  },
  {
   "cell_type": "code",
   "execution_count": null,
   "metadata": {},
   "outputs": [],
   "source": []
  }
 ]
}