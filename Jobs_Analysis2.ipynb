{
 "metadata": {
  "language_info": {
   "codemirror_mode": {
    "name": "ipython",
    "version": 3
   },
   "file_extension": ".py",
   "mimetype": "text/x-python",
   "name": "python",
   "nbconvert_exporter": "python",
   "pygments_lexer": "ipython3",
   "version": "3.7.6"
  },
  "orig_nbformat": 4,
  "kernelspec": {
   "name": "python3",
   "display_name": "Python 3.7.6 64-bit ('base': conda)"
  },
  "interpreter": {
   "hash": "016f416f43c7de9d71e7f049375c6b8b903fae571cb02d2ed6c16dadea121115"
  }
 },
 "nbformat": 4,
 "nbformat_minor": 2,
 "cells": [
  {
   "source": [
    "## Analysis Part 2\n",
    "\n",
    "<ul style=\"font-size:20px;\">\n",
    "    <li> EDA</li>\n",
    "    <li> Find a way to see the top technical skills required</li>\n",
    "    <li> Find key requirements</li>\n",
    "    <li> Find education level requirements</li>\n",
    "    <li> Find key responsibilities</li>\n",
    "\n",
    "</ul>"
   ],
   "cell_type": "markdown",
   "metadata": {}
  },
  {
   "cell_type": "code",
   "execution_count": 2,
   "metadata": {},
   "outputs": [],
   "source": [
    "# library import \n",
    "import numpy as np \n",
    "import pandas as pd\n",
    "import matplotlib.pyplot as plt "
   ]
  },
  {
   "cell_type": "code",
   "execution_count": 3,
   "metadata": {},
   "outputs": [],
   "source": [
    "# reading data \n",
    "\n",
    "df = pd.read_csv(\"./text_to_df/job_df.csv\")"
   ]
  },
  {
   "cell_type": "code",
   "execution_count": 4,
   "metadata": {},
   "outputs": [
    {
     "output_type": "stream",
     "name": "stdout",
     "text": [
      "<class 'pandas.core.frame.DataFrame'>\nRangeIndex: 141 entries, 0 to 140\nData columns (total 9 columns):\n #   Column           Non-Null Count  Dtype \n---  ------           --------------  ----- \n 0   ids              141 non-null    int64 \n 1   title            141 non-null    object\n 2   company          141 non-null    object\n 3   location         141 non-null    object\n 4   text             141 non-null    object\n 5   seniority_level  136 non-null    object\n 6   industry         141 non-null    object\n 7   employment_type  141 non-null    object\n 8   job_function     141 non-null    object\ndtypes: int64(1), object(8)\nmemory usage: 10.0+ KB\n"
     ]
    }
   ],
   "source": [
    "df.info()"
   ]
  },
  {
   "cell_type": "code",
   "execution_count": 5,
   "metadata": {},
   "outputs": [
    {
     "output_type": "execute_result",
     "data": {
      "text/plain": [
       "   ids                                     title            company  \\\n",
       "0   56                         Software Engineer     Smartbox Group   \n",
       "1   21                              Data Analyst  Johnson & Johnson   \n",
       "2   34                      Senior Data Engineer         Vela Games   \n",
       "3  106                              Data Analyst            Dabster   \n",
       "4   51  AIB - Data Engineer – Data and Analytics                AIB   \n",
       "\n",
       "                         location  \\\n",
       "0  Dublin, County Dublin, Ireland   \n",
       "1      Cork, County Cork, Ireland   \n",
       "2  Dublin, County Dublin, Ireland   \n",
       "3      Cork, County Cork, Ireland   \n",
       "4                         Ireland   \n",
       "\n",
       "                                                text   seniority_level  \\\n",
       "0  Department: Technology  Reporting to: Software...         Associate   \n",
       "1  Data Analyst, Technical Operations (Global)  C...       Entry level   \n",
       "2  Vela Games is looking for a talented Senior Da...         Associate   \n",
       "3  Permanent Position  Cork , Ireland  Duties, Fu...       Entry level   \n",
       "4  Posted by Caroline Donlon 2nd Senior Business ...  Mid-Senior level   \n",
       "\n",
       "                                            industry employment_type  \\\n",
       "0              Leisure, Travel & Tourism Hospitality       Full-time   \n",
       "1  Medical Device Financial Services Pharmaceuticals       Full-time   \n",
       "2                Design Entertainment Computer Games       Full-time   \n",
       "3  Information Technology & Services Computer Sof...       Full-time   \n",
       "4                                            Banking       Full-time   \n",
       "\n",
       "                         job_function  \n",
       "0  Engineering Information Technology  \n",
       "1              Information Technology  \n",
       "2                         Engineering  \n",
       "3              Information Technology  \n",
       "4              Information Technology  "
      ],
      "text/html": "<div>\n<style scoped>\n    .dataframe tbody tr th:only-of-type {\n        vertical-align: middle;\n    }\n\n    .dataframe tbody tr th {\n        vertical-align: top;\n    }\n\n    .dataframe thead th {\n        text-align: right;\n    }\n</style>\n<table border=\"1\" class=\"dataframe\">\n  <thead>\n    <tr style=\"text-align: right;\">\n      <th></th>\n      <th>ids</th>\n      <th>title</th>\n      <th>company</th>\n      <th>location</th>\n      <th>text</th>\n      <th>seniority_level</th>\n      <th>industry</th>\n      <th>employment_type</th>\n      <th>job_function</th>\n    </tr>\n  </thead>\n  <tbody>\n    <tr>\n      <th>0</th>\n      <td>56</td>\n      <td>Software Engineer</td>\n      <td>Smartbox Group</td>\n      <td>Dublin, County Dublin, Ireland</td>\n      <td>Department: Technology  Reporting to: Software...</td>\n      <td>Associate</td>\n      <td>Leisure, Travel &amp; Tourism Hospitality</td>\n      <td>Full-time</td>\n      <td>Engineering Information Technology</td>\n    </tr>\n    <tr>\n      <th>1</th>\n      <td>21</td>\n      <td>Data Analyst</td>\n      <td>Johnson &amp; Johnson</td>\n      <td>Cork, County Cork, Ireland</td>\n      <td>Data Analyst, Technical Operations (Global)  C...</td>\n      <td>Entry level</td>\n      <td>Medical Device Financial Services Pharmaceuticals</td>\n      <td>Full-time</td>\n      <td>Information Technology</td>\n    </tr>\n    <tr>\n      <th>2</th>\n      <td>34</td>\n      <td>Senior Data Engineer</td>\n      <td>Vela Games</td>\n      <td>Dublin, County Dublin, Ireland</td>\n      <td>Vela Games is looking for a talented Senior Da...</td>\n      <td>Associate</td>\n      <td>Design Entertainment Computer Games</td>\n      <td>Full-time</td>\n      <td>Engineering</td>\n    </tr>\n    <tr>\n      <th>3</th>\n      <td>106</td>\n      <td>Data Analyst</td>\n      <td>Dabster</td>\n      <td>Cork, County Cork, Ireland</td>\n      <td>Permanent Position  Cork , Ireland  Duties, Fu...</td>\n      <td>Entry level</td>\n      <td>Information Technology &amp; Services Computer Sof...</td>\n      <td>Full-time</td>\n      <td>Information Technology</td>\n    </tr>\n    <tr>\n      <th>4</th>\n      <td>51</td>\n      <td>AIB - Data Engineer – Data and Analytics</td>\n      <td>AIB</td>\n      <td>Ireland</td>\n      <td>Posted by Caroline Donlon 2nd Senior Business ...</td>\n      <td>Mid-Senior level</td>\n      <td>Banking</td>\n      <td>Full-time</td>\n      <td>Information Technology</td>\n    </tr>\n  </tbody>\n</table>\n</div>"
     },
     "metadata": {},
     "execution_count": 5
    }
   ],
   "source": [
    "df.head()"
   ]
  },
  {
   "cell_type": "code",
   "execution_count": 6,
   "metadata": {},
   "outputs": [
    {
     "output_type": "stream",
     "name": "stdout",
     "text": [
      "Top 10 job titles: \n"
     ]
    },
    {
     "output_type": "execute_result",
     "data": {
      "text/plain": [
       "Data Scientist               16\n",
       "Data Engineer                 8\n",
       "Senior Data Engineer          7\n",
       "Senior Data Scientist         7\n",
       "Data Analyst                  6\n",
       "Software Engineer             6\n",
       "Machine Learning Engineer     4\n",
       "UX Researcher                 3\n",
       "Software Developer            3\n",
       "Principal Data Engineer       2\n",
       "Name: title, dtype: int64"
      ]
     },
     "metadata": {},
     "execution_count": 6
    }
   ],
   "source": [
    "print(\"Top 10 job titles: \")\n",
    "df.title.value_counts()[:10]"
   ]
  },
  {
   "cell_type": "code",
   "execution_count": 7,
   "metadata": {},
   "outputs": [
    {
     "output_type": "execute_result",
     "data": {
      "text/plain": [
       "Dublin              89\n",
       "Cork                16\n",
       "Galway               7\n",
       "Ireland              6\n",
       "Dublin City          5\n",
       "Limerick             3\n",
       "Shannon              2\n",
       "Waterford            2\n",
       "County Dublin        2\n",
       "Tipperary            1\n",
       "Sligo                1\n",
       "Letterkenny          1\n",
       "Killarney            1\n",
       "Donegal              1\n",
       "Wicklow              1\n",
       "County Limerick      1\n",
       "Carlow               1\n",
       "County Tipperary     1\n",
       "Name: location, dtype: int64"
      ]
     },
     "metadata": {},
     "execution_count": 7
    }
   ],
   "source": [
    "df.location.str.split(\",\").apply(lambda x: x[0]).value_counts()"
   ]
  },
  {
   "cell_type": "code",
   "execution_count": 8,
   "metadata": {},
   "outputs": [
    {
     "output_type": "execute_result",
     "data": {
      "text/plain": [
       "Full-time                                                                                                                                               128\n",
       "Contract                                                                                                                                                 11\n",
       "We are very happy to reward success, and so, with Idiro, you will have an opportunity to craft your career in a flexible and supportive environment.      1\n",
       "Competitive salary and OTE with good career prospects                                                                                                     1\n",
       "Name: employment_type, dtype: int64"
      ]
     },
     "metadata": {},
     "execution_count": 8
    }
   ],
   "source": [
    "df.employment_type.value_counts()"
   ]
  },
  {
   "cell_type": "code",
   "execution_count": 9,
   "metadata": {},
   "outputs": [
    {
     "output_type": "execute_result",
     "data": {
      "text/plain": [
       "Engineering Information Technology                     47\n",
       "Information Technology                                 46\n",
       "Engineering                                             7\n",
       "Other                                                   6\n",
       "Finance Sales                                           3\n",
       "Information Technology Engineering                      3\n",
       "Analyst Engineering Information Technology              2\n",
       "Research Analyst Information Technology                 2\n",
       "Full-time                                               2\n",
       "Information Technology Analyst Engineering              2\n",
       "Customer Service                                        2\n",
       "Strategy/Planning Analyst Information Technology        2\n",
       "Engineering Information Technology Other                1\n",
       "Research Strategy/Planning                              1\n",
       "Information Technology Health Care Provider Analyst     1\n",
       "Science                                                 1\n",
       "Engineering Analyst Strategy/Planning                   1\n",
       "Sales Business Development                              1\n",
       "Analyst Consulting Marketing                            1\n",
       "Information Technology Analyst Strategy/Planning        1\n",
       "Analyst Research Science                                1\n",
       "Engineering Information Technology Analyst              1\n",
       "Research                                                1\n",
       "Analyst Information Technology Marketing                1\n",
       "Consulting Information Technology Engineering           1\n",
       "Research Engineering Science                            1\n",
       "Manufacturing                                           1\n",
       "Management Strategy/Planning                            1\n",
       "Project Management General Business Analyst             1\n",
       "Name: job_function, dtype: int64"
      ]
     },
     "metadata": {},
     "execution_count": 9
    }
   ],
   "source": [
    "df.job_function.value_counts()"
   ]
  },
  {
   "cell_type": "code",
   "execution_count": 10,
   "metadata": {},
   "outputs": [
    {
     "output_type": "execute_result",
     "data": {
      "text/plain": [
       "['Job Description',\n",
       " 'Are You Ready to Make It Happen at Mondelēz International?',\n",
       " 'Join our Mission to Lead the Future of Snacking. Make It With Pride.',\n",
       " 'You will be crucial in supporting our business by creating valuable, actionable insights about the data, and communicating your findings to the business. You will work with various stakeholders to determine how to use business data for business solutions/insights.',\n",
       " 'How You Will Contribute',\n",
       " 'You will: Analyze and derive value from data through the application methods such as mathematics, statistics, computer science, machine learning and data visualization. In this role you will also formulate hypotheses and test them using math, statistics, visualization and predictive modeling Understand business challenges, create valuable actionable insights about the data, and communicate your findings to the business. After that you will work with stakeholders to determine how to use business data for business solutions/insights Enable data-driven decision making by creating custom models or prototypes from trends or patterns discerned and by underscoring implications. Coordinate with other technical/functional teams to implement models and monitor results Apply mathematical, statistical, predictive modelling or machine-learning techniques and with sensitivity to the limitations of the techniques. Select, acquire and integrate data for analysis. Develop data hypotheses and methods, train and evaluate analytics models, share insights and findings and continues to iterate with additional data Develop processes, techniques, and tools to analyze and monitor model performance while ensuring data accuracy Evaluate the need for analytics, assess the problems to be solved and what internal or external data sources to use or acquire. Specify and apply appropriate mathematical, statistical, predictive modelling or machine-learning techniques to analyze data, generate insights, create value and support decision making Contribute to exploration and experimentation in data visualization and you will manage reviews of the benefits and value of analytics techniques and tools and recommend improvements',\n",
       " 'What You Will Bring',\n",
       " 'A desire to drive your future and accelerate your career and the following experience and knowledge: Strong quantitative skillset with experience in statistics and ML A natural inclination toward solving complex problems Knowledge/experience with statistical programming languages including SAS, R, Python, SQL, etc., to process data and gain insights from it Knowledge of machine learning techniques including decision-tree learning (R andom Forest, Gradient Boost) clustering, artificial neural networks, etc., and their pros and cons. Knowledge and experience in advanced statistical techniques and concepts including, regression, distribution properties, statistical testing, etc. Good communication skills to promote cross-team collaboration Experience/knowledge in statistics and data mining techniques including random forest, GLM/regression, social network analysis, text mining, etc. Ability to use data visualization tools to showcase data for stakeholders',\n",
       " 'More About This Role',\n",
       " 'What you need to know about this position:',\n",
       " 'The Data Scientist forecasting will be responsible for advanced forecasting methodologies for demand forecasting to generate better forecasting results in terms of accuracy and bias Determine, create and maintain the best Statistical models be to be used, by considering SKU demand behavior using segmentation strategy, to generate high quality demand statistical forecast with low forecast error and bias Collaborate with Demand Planners to identify right drivers and lever which influences demand and thus incorporate in statistical forecasting process Support SAS Implementation for market for demand modelling in SAS and SAS Model Forecast Improvement activity. Keep close liaison with SAS implementation partner to get transitioned process to Central Analytics Team Refine forecasting models, by reviewing forecast performance and incorporating feedback from the Demand Planner, to improve forecast error and bias metrics Analyze the model performance every month / week (Where MAPE is deteriorating etc) and post process the output and if required finetune the output Propose additional data elements which we can consume and work with ETL developer to get those into SAS staging and SAS ABTs Run demand-supply segmentation analysis as per defined frequency',\n",
       " 'Education / Certifications',\n",
       " 'Either of the following is applicable as educational criteria for the position: Degree/Masters in quantitative field of Statistics, Applied Mathematics or Engineering, with specific full-time courses in Analytics Certifications any of SAS Base, SAS VF, SAS Visual Statistics, etc Strong Applied Knowledge of analytical techniques in statistical modelling, machine learning with exposure to forecasting domain especially driver based forecasting Experience on working with FMCG, Food & Beverages, Retail or similar industry data with understanding the business process with be advantage Should be able to articulate data science outcome into business understandable language Fluent English, other European languages would be an advantage.',\n",
       " 'The responsibilities of this position are performed within the framework of a regional business model that is defined and managed by Mondelēz Europe GmbH, Switzerland .',\n",
       " 'No Relocation support available, however for candidates voluntarily moving internationally some minimal support is offered through our Volunteer International Transfer Policy Business Unit Summary At Mondelez Europe, we are proud, not only of the iconic brands we make, but also of the people who make them. Our delicious products are created in 52 plants across Europe by more than 28,000 passionate people. We are the top maker of chocolate and biscuits and a leading maker of gum and candy. We make sure our powerful global brands and local jewels like Cadbury, Milka and Alpen Gold chocolates, Oreo, belVita, LU and Tuc biscuits, and Stimorol and Dirol gums get safely into our customers hands—and mouths. Great people and great brands. That’s who we are. Join us on our journey to continue leading the future of snacking around the world by offering the right snack, for the right moment, made the right way.',\n",
       " 'Mondelēz International is an equal opportunity employer and all qualified applicants will receive consideration for employment without regard to race, color, religion, gender, sexual orientation or preference, gender identity, national origin, disability status, protected veteran status, or any other characteristic protected by law.',\n",
       " 'Job Type RegularData ScienceAnalytics & Data Science']"
      ]
     },
     "metadata": {},
     "execution_count": 10
    }
   ],
   "source": [
    "df.text[7].split(\"  \")"
   ]
  },
  {
   "cell_type": "code",
   "execution_count": null,
   "metadata": {},
   "outputs": [],
   "source": [
    "def get_text_titles(text):\n",
    "    text = text.split(\" \")\n",
    "    "
   ]
  },
  {
   "cell_type": "code",
   "execution_count": 21,
   "metadata": {},
   "outputs": [],
   "source": [
    "example =df.text[7]\n",
    "full_text = example.split(\"  \")"
   ]
  },
  {
   "cell_type": "code",
   "execution_count": 30,
   "metadata": {},
   "outputs": [],
   "source": [
    "titles = [title for title in full_text if len(title.split()) <=5 ]\n",
    "titles_index = [full_text.index(i) for i in titles]"
   ]
  },
  {
   "cell_type": "code",
   "execution_count": 31,
   "metadata": {},
   "outputs": [
    {
     "output_type": "execute_result",
     "data": {
      "text/plain": [
       "[0, 4, 6, 8, 11]"
      ]
     },
     "metadata": {},
     "execution_count": 31
    }
   ],
   "source": [
    "titles_index"
   ]
  },
  {
   "cell_type": "code",
   "execution_count": 23,
   "metadata": {},
   "outputs": [
    {
     "output_type": "execute_result",
     "data": {
      "text/plain": [
       "['Job Description',\n",
       " 'How You Will Contribute',\n",
       " 'What You Will Bring',\n",
       " 'More About This Role',\n",
       " 'Education / Certifications']"
      ]
     },
     "metadata": {},
     "execution_count": 23
    }
   ],
   "source": [
    "titles"
   ]
  },
  {
   "cell_type": "code",
   "execution_count": null,
   "metadata": {},
   "outputs": [],
   "source": [
    "for i in range(len(titles)):\n",
    "    print(f\"{titles[i]}: \\n {}\")"
   ]
  },
  {
   "cell_type": "code",
   "execution_count": 29,
   "metadata": {},
   "outputs": [
    {
     "output_type": "execute_result",
     "data": {
      "text/plain": [
       "6"
      ]
     },
     "metadata": {},
     "execution_count": 29
    }
   ],
   "source": [
    "full_text.index(titles[2])"
   ]
  },
  {
   "cell_type": "code",
   "execution_count": null,
   "metadata": {},
   "outputs": [],
   "source": []
  }
 ]
}